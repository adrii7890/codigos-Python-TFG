{
 "cells": [
  {
   "cell_type": "code",
   "execution_count": 1,
   "id": "484fdd6d",
   "metadata": {},
   "outputs": [],
   "source": [
    "import sys\n",
    "# sys.path is a list of absolute path strings\n",
    "sys.path.append('Pruebas de primalidad')\n",
    "sys.path.append('Métodos de factorización')"
   ]
  },
  {
   "cell_type": "code",
   "execution_count": 2,
   "id": "bd732ec9",
   "metadata": {},
   "outputs": [],
   "source": [
    "import Criba_cuadratica as cc"
   ]
  },
  {
   "cell_type": "code",
   "execution_count": 4,
   "id": "44219854",
   "metadata": {},
   "outputs": [
    {
     "name": "stdout",
     "output_type": "stream",
     "text": [
      "B= [-1, 2, 3, 5, 13, 19]\n"
     ]
    },
    {
     "ename": "AttributeError",
     "evalue": "module 'algoritmos_complementarios' has no attribute 'NRsuelo'",
     "output_type": "error",
     "traceback": [
      "\u001b[0;31m---------------------------------------------------------------------------\u001b[0m",
      "\u001b[0;31mAttributeError\u001b[0m                            Traceback (most recent call last)",
      "\u001b[0;32m<ipython-input-4-0eb3170121ed>\u001b[0m in \u001b[0;36m<module>\u001b[0;34m\u001b[0m\n\u001b[0;32m----> 1\u001b[0;31m \u001b[0mcc\u001b[0m\u001b[0;34m.\u001b[0m\u001b[0mQS\u001b[0m\u001b[0;34m(\u001b[0m\u001b[0;36m7381\u001b[0m\u001b[0;34m,\u001b[0m\u001b[0;36m20\u001b[0m\u001b[0;34m,\u001b[0m\u001b[0;36m19\u001b[0m\u001b[0;34m)\u001b[0m\u001b[0;34m\u001b[0m\u001b[0;34m\u001b[0m\u001b[0m\n\u001b[0m",
      "\u001b[0;32m/mnt/c/Users/Pedro/Repositorios/TFG-Factorizacion-Adrian/Métodos de factorización/Criba_cuadratica.py\u001b[0m in \u001b[0;36mQS\u001b[0;34m(n, M1, M2)\u001b[0m\n\u001b[1;32m     66\u001b[0m     \u001b[0mBase\u001b[0m\u001b[0;34m=\u001b[0m\u001b[0mbasef\u001b[0m\u001b[0;34m(\u001b[0m\u001b[0mn\u001b[0m\u001b[0;34m,\u001b[0m\u001b[0mM2\u001b[0m\u001b[0;34m)\u001b[0m \u001b[0;31m#generamos la base de factores\u001b[0m\u001b[0;34m\u001b[0m\u001b[0;34m\u001b[0m\u001b[0m\n\u001b[1;32m     67\u001b[0m     \u001b[0mprint\u001b[0m\u001b[0;34m(\u001b[0m\u001b[0;34m\"B=\"\u001b[0m\u001b[0;34m,\u001b[0m\u001b[0mBase\u001b[0m\u001b[0;34m)\u001b[0m \u001b[0;31m#sacamos por pantalla la base de factores\u001b[0m\u001b[0;34m\u001b[0m\u001b[0;34m\u001b[0m\u001b[0m\n\u001b[0;32m---> 68\u001b[0;31m     \u001b[0mS\u001b[0m\u001b[0;34m=\u001b[0m\u001b[0;34m[\u001b[0m\u001b[0malg\u001b[0m\u001b[0;34m.\u001b[0m\u001b[0mNRsuelo\u001b[0m\u001b[0;34m(\u001b[0m\u001b[0mn\u001b[0m\u001b[0;34m)\u001b[0m\u001b[0;34m]\u001b[0m\u001b[0;34m\u001b[0m\u001b[0;34m\u001b[0m\u001b[0m\n\u001b[0m\u001b[1;32m     69\u001b[0m     \u001b[0;31m#Generación de la lista S\u001b[0m\u001b[0;34m\u001b[0m\u001b[0;34m\u001b[0m\u001b[0;34m\u001b[0m\u001b[0m\n\u001b[1;32m     70\u001b[0m     \u001b[0;32mfor\u001b[0m \u001b[0mi\u001b[0m \u001b[0;32min\u001b[0m \u001b[0mrange\u001b[0m\u001b[0;34m(\u001b[0m\u001b[0;36m1\u001b[0m\u001b[0;34m,\u001b[0m\u001b[0mM1\u001b[0m\u001b[0;34m)\u001b[0m\u001b[0;34m:\u001b[0m\u001b[0;34m\u001b[0m\u001b[0;34m\u001b[0m\u001b[0m\n",
      "\u001b[0;31mAttributeError\u001b[0m: module 'algoritmos_complementarios' has no attribute 'NRsuelo'"
     ]
    }
   ],
   "source": [
    "cc.QS(7381,20,19)"
   ]
  },
  {
   "cell_type": "code",
   "execution_count": 6,
   "id": "061520c5",
   "metadata": {},
   "outputs": [
    {
     "data": {
      "text/plain": [
       "False"
      ]
     },
     "execution_count": 6,
     "metadata": {},
     "output_type": "execute_result"
    }
   ],
   "source": [
    "MR(106,7)"
   ]
  },
  {
   "cell_type": "code",
   "execution_count": null,
   "id": "07c3b947",
   "metadata": {},
   "outputs": [],
   "source": []
  }
 ],
 "metadata": {
  "kernelspec": {
   "display_name": "Python 3",
   "language": "python",
   "name": "python3"
  },
  "language_info": {
   "codemirror_mode": {
    "name": "ipython",
    "version": 3
   },
   "file_extension": ".py",
   "mimetype": "text/x-python",
   "name": "python",
   "nbconvert_exporter": "python",
   "pygments_lexer": "ipython3",
   "version": "3.6.9"
  }
 },
 "nbformat": 4,
 "nbformat_minor": 5
}
