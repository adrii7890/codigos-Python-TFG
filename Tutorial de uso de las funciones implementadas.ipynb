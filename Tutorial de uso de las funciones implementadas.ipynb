{
 "cells": [
  {
   "cell_type": "markdown",
   "id": "eb4e7b79",
   "metadata": {},
   "source": [
    "# 1. Métodos de factorización"
   ]
  },
  {
   "cell_type": "markdown",
   "id": "5bc20509",
   "metadata": {},
   "source": [
    "## 1.1 División por tentativa"
   ]
  },
  {
   "cell_type": "code",
   "execution_count": 1,
   "id": "ea0a3769",
   "metadata": {},
   "outputs": [],
   "source": [
    "import sys\n",
    "sys.path.append('./lib')"
   ]
  },
  {
   "cell_type": "code",
   "execution_count": 2,
   "id": "c2ff83ea",
   "metadata": {
    "scrolled": true
   },
   "outputs": [],
   "source": [
    "import Division_por_tentativa as TD"
   ]
  },
  {
   "cell_type": "markdown",
   "id": "491d5618",
   "metadata": {},
   "source": [
    "Probaremos con el ejemplo expuesto en el TFG."
   ]
  },
  {
   "cell_type": "code",
   "execution_count": 3,
   "id": "56623760",
   "metadata": {
    "scrolled": true
   },
   "outputs": [
    {
     "data": {
      "text/plain": [
       "[2, 2, 3, 41]"
      ]
     },
     "execution_count": 3,
     "metadata": {},
     "output_type": "execute_result"
    }
   ],
   "source": [
    "TD.trialdiv(492)"
   ]
  },
  {
   "cell_type": "markdown",
   "id": "60a4e968",
   "metadata": {},
   "source": [
    "Se puede ver que el resultado es correcto. Probamos ahora con un entero distinto."
   ]
  },
  {
   "cell_type": "code",
   "execution_count": 4,
   "id": "532aee40",
   "metadata": {
    "scrolled": true
   },
   "outputs": [
    {
     "data": {
      "text/plain": [
       "[11, 13, 23]"
      ]
     },
     "execution_count": 4,
     "metadata": {},
     "output_type": "execute_result"
    }
   ],
   "source": [
    "TD.trialdiv(3289)"
   ]
  },
  {
   "cell_type": "markdown",
   "id": "5d33c0a7",
   "metadata": {},
   "source": [
    "## 1.2 Método de Fermat"
   ]
  },
  {
   "cell_type": "code",
   "execution_count": 5,
   "id": "37699ecf",
   "metadata": {},
   "outputs": [],
   "source": [
    "import Método_de_Fermat as MF"
   ]
  },
  {
   "cell_type": "markdown",
   "id": "ce5af519",
   "metadata": {},
   "source": [
    "Como antes probamos el código con el ejemplo de la memoria. La función toma dos valores, el entero a factorizar y el número máximo de iteraciones que estamos dispuestos a hacer."
   ]
  },
  {
   "cell_type": "code",
   "execution_count": 6,
   "id": "477b4bef",
   "metadata": {},
   "outputs": [
    {
     "data": {
      "text/plain": [
       "[47, 143]"
      ]
     },
     "execution_count": 6,
     "metadata": {},
     "output_type": "execute_result"
    }
   ],
   "source": [
    "MF.FermatFact1(6721,14)"
   ]
  },
  {
   "cell_type": "markdown",
   "id": "8629ceee",
   "metadata": {},
   "source": [
    "Obtenemos lo deseado. Procedemos a factorizar otro entero con el mismo método."
   ]
  },
  {
   "cell_type": "code",
   "execution_count": 7,
   "id": "d95842dd",
   "metadata": {},
   "outputs": [
    {
     "data": {
      "text/plain": [
       "[239, 983]"
      ]
     },
     "execution_count": 7,
     "metadata": {},
     "output_type": "execute_result"
    }
   ],
   "source": [
    "MF.FermatFact1(234937,130)"
   ]
  },
  {
   "cell_type": "markdown",
   "id": "5e1c585c",
   "metadata": {},
   "source": [
    "## 1.3 Método $\\rho$ de Pollard"
   ]
  },
  {
   "cell_type": "markdown",
   "id": "0987800d",
   "metadata": {},
   "source": [
    "### 1.3.1 Versión original"
   ]
  },
  {
   "cell_type": "code",
   "execution_count": 8,
   "id": "780d61a1",
   "metadata": {},
   "outputs": [],
   "source": [
    "import Rho_de_Pollard as Rho"
   ]
  },
  {
   "cell_type": "markdown",
   "id": "31e02a9e",
   "metadata": {},
   "source": [
    "Verificamos los resultados obtenidos en la memoria. En este caso necesitamos tres valores para ejecutar la función, en primer lugar el entero a factorizar, tras esto el valor inicial de la sucesión que generará el método y por último el número máximo de iteraciones que permitiremos."
   ]
  },
  {
   "cell_type": "code",
   "execution_count": 9,
   "id": "5e086015",
   "metadata": {},
   "outputs": [
    {
     "data": {
      "text/plain": [
       "[37, 331]"
      ]
     },
     "execution_count": 9,
     "metadata": {},
     "output_type": "execute_result"
    }
   ],
   "source": [
    "Rho.Pollardp(12247,2,6)"
   ]
  },
  {
   "cell_type": "markdown",
   "id": "d674e00b",
   "metadata": {},
   "source": [
    "Efectivamente el resultado es el esperado. Vamos con otro ejemplo de uso, en este caso un número algo más grande."
   ]
  },
  {
   "cell_type": "code",
   "execution_count": 10,
   "id": "20f369bd",
   "metadata": {
    "scrolled": true
   },
   "outputs": [
    {
     "data": {
      "text/plain": [
       "[48847483, 25630757]"
      ]
     },
     "execution_count": 10,
     "metadata": {},
     "output_type": "execute_result"
    }
   ],
   "source": [
    "Rho.Pollardp(1251997966834631,2,3000)"
   ]
  },
  {
   "cell_type": "markdown",
   "id": "bf939d56",
   "metadata": {},
   "source": [
    "Se puede observar que el algoritmo trabaja bastante bien con números de este tamaño, a pesar de que los factores primos son de un tamaño considerable."
   ]
  },
  {
   "cell_type": "markdown",
   "id": "5a14bbfa",
   "metadata": {},
   "source": [
    "### 1.3.2 Versión de Brent"
   ]
  },
  {
   "cell_type": "code",
   "execution_count": 11,
   "id": "2390d462",
   "metadata": {},
   "outputs": [],
   "source": [
    "import Rho_de_Pollard_Brent as Rho2"
   ]
  },
  {
   "cell_type": "markdown",
   "id": "17394017",
   "metadata": {},
   "source": [
    "Procedemos como hasta ahora con el ejemplo visto en el TFG. Esta función también toma los mismos tres parámetros que la anterior."
   ]
  },
  {
   "cell_type": "code",
   "execution_count": 12,
   "id": "2b9a7a25",
   "metadata": {},
   "outputs": [
    {
     "data": {
      "text/plain": [
       "[73, 353]"
      ]
     },
     "execution_count": 12,
     "metadata": {},
     "output_type": "execute_result"
    }
   ],
   "source": [
    "Rho2.PollardpB(25769,2,12)"
   ]
  },
  {
   "cell_type": "markdown",
   "id": "3933c751",
   "metadata": {},
   "source": [
    "Comprobamos así que el código funciona correctamente. Ejecutamos el algoritmo con un entero de mayor tamaño."
   ]
  },
  {
   "cell_type": "code",
   "execution_count": 13,
   "id": "92781481",
   "metadata": {},
   "outputs": [
    {
     "data": {
      "text/plain": [
       "[48835393, 76635353]"
      ]
     },
     "execution_count": 13,
     "metadata": {},
     "output_type": "execute_result"
    }
   ],
   "source": [
    "Rho2.PollardpB(3742517581448729,2,1300)"
   ]
  },
  {
   "cell_type": "markdown",
   "id": "389547f5",
   "metadata": {},
   "source": [
    "Vemos que también se maneja bien con números de este tamaño."
   ]
  },
  {
   "cell_type": "markdown",
   "id": "26eac47b",
   "metadata": {},
   "source": [
    "## 1.4 Método $p-1$ de Pollard "
   ]
  },
  {
   "cell_type": "markdown",
   "id": "61085d89",
   "metadata": {},
   "source": [
    "### 1.4.1 Versión del factorial"
   ]
  },
  {
   "cell_type": "code",
   "execution_count": 14,
   "id": "6d47c4eb",
   "metadata": {},
   "outputs": [],
   "source": [
    "import p_1_de_Pollard as P1"
   ]
  },
  {
   "cell_type": "markdown",
   "id": "3c76bd1a",
   "metadata": {},
   "source": [
    "Ejecutamos el ejemplo. Para ello introducimos en la función el entero que queremos factorizar y el número máximo de iteraciones."
   ]
  },
  {
   "cell_type": "code",
   "execution_count": 15,
   "id": "87e51c52",
   "metadata": {},
   "outputs": [
    {
     "data": {
      "text/plain": [
       "[163, 106]"
      ]
     },
     "execution_count": 15,
     "metadata": {},
     "output_type": "execute_result"
    }
   ],
   "source": [
    "P1.Pollardp1(17278,10)"
   ]
  },
  {
   "cell_type": "markdown",
   "id": "df47cab2",
   "metadata": {},
   "source": [
    "Factorizamos un número de mayor tamaño para probar la rapidez del método."
   ]
  },
  {
   "cell_type": "code",
   "execution_count": 16,
   "id": "541a614f",
   "metadata": {},
   "outputs": [
    {
     "data": {
      "text/plain": [
       "[77770081, 75577399]"
      ]
     },
     "execution_count": 16,
     "metadata": {},
     "output_type": "execute_result"
    }
   ],
   "source": [
    "P1.Pollardp1(5877660441999319,1100)"
   ]
  },
  {
   "cell_type": "markdown",
   "id": "d76a0d38",
   "metadata": {},
   "source": [
    "Se desenvuelve bastante bien con estos números y nos da el resultado de manera inmediata."
   ]
  },
  {
   "cell_type": "markdown",
   "id": "6701f83f",
   "metadata": {},
   "source": [
    "### 1.4.2 Versión del mcm (mínimo común múltiplo)"
   ]
  },
  {
   "cell_type": "code",
   "execution_count": 17,
   "id": "7da96681",
   "metadata": {},
   "outputs": [],
   "source": [
    "import Pollard_p_1_variation as P1V"
   ]
  },
  {
   "cell_type": "markdown",
   "id": "8921f143",
   "metadata": {},
   "source": [
    "Ejecutamos el ejemplo de la memoria. Tras esto, como siempre, otro entero de mayor tamaño."
   ]
  },
  {
   "cell_type": "code",
   "execution_count": 18,
   "id": "94cff18e",
   "metadata": {},
   "outputs": [
    {
     "data": {
      "text/plain": [
       "[67, 193]"
      ]
     },
     "execution_count": 18,
     "metadata": {},
     "output_type": "execute_result"
    }
   ],
   "source": [
    "P1V.Pollardp1M(12931,12)"
   ]
  },
  {
   "cell_type": "code",
   "execution_count": 19,
   "id": "7812c5b2",
   "metadata": {},
   "outputs": [
    {
     "data": {
      "text/plain": [
       "[25630757, 21025793]"
      ]
     },
     "execution_count": 19,
     "metadata": {},
     "output_type": "execute_result"
    }
   ],
   "source": [
    "P1V.Pollardp1M(538906991115301,10500)"
   ]
  },
  {
   "cell_type": "markdown",
   "id": "c29895db",
   "metadata": {},
   "source": [
    "Apreciamos que hacen falta bastantes iteraciones, pero hay que tener en cuenta que en muchas de ellas no realiza cálculo alguno. De nuevo la respuesta es inmediata."
   ]
  },
  {
   "cell_type": "markdown",
   "id": "296035fb",
   "metadata": {},
   "source": [
    "## 1.5 Método de Dixon"
   ]
  },
  {
   "cell_type": "code",
   "execution_count": 20,
   "id": "9258a567",
   "metadata": {},
   "outputs": [],
   "source": [
    "import Metodo_de_Dixon as DX"
   ]
  },
  {
   "cell_type": "markdown",
   "id": "8a222c2e",
   "metadata": {},
   "source": [
    "En este caso ejecutar el ejemplo no nos serviría para nada, dada la aleatoriedad del método por lo que probamos con un entero cualquiera para comprobar la funcionalidad del código. La función a continuación toma $3$ valores, el número a factorizar, el número de valores aleatorios a generar y por último la cota para la base de factores."
   ]
  },
  {
   "cell_type": "code",
   "execution_count": 21,
   "id": "5d55a67c",
   "metadata": {},
   "outputs": [
    {
     "name": "stdout",
     "output_type": "stream",
     "text": [
      "B= [2, 3, 5, 7, 11, 13, 17, 19, 23, 29]\n",
      "1004763 ^2= 2025 (mod 3516513 )\n",
      "2040324 ^2= 88803 (mod 3516513 )\n",
      "2976246 ^2= 269724 (mod 3516513 )\n",
      "1321104 ^2= 46656 (mod 3516513 )\n",
      "Z= [1004763, 2040324, 2976246, 1321104]\n",
      "W= [2025, 88803, 269724, 46656]\n",
      "A= [[0, 0, 0, 0, 0, 0, 0, 0, 0, 0], [0, 1, 0, 0, 1, 1, 0, 0, 1, 0], [0, 1, 0, 1, 0, 0, 0, 1, 0, 0], [0, 0, 0, 0, 0, 0, 0, 0, 0, 0]]\n"
     ]
    }
   ],
   "source": [
    "DX.Dixon(3516513,1000,30)"
   ]
  },
  {
   "cell_type": "markdown",
   "id": "46b6b48e",
   "metadata": {},
   "source": [
    "En este hay que probar un poco con los valores para la base de factores y el número de valores aleatorios que queremos generar pero ajustando un poco y con un poco de suerte (por la aleatoriedad del método) obtenemos lo deseado para poder seguir con el método tras esto."
   ]
  },
  {
   "cell_type": "markdown",
   "id": "5196e66a",
   "metadata": {},
   "source": [
    "## 1.6 Criba cuadrática"
   ]
  },
  {
   "cell_type": "code",
   "execution_count": 22,
   "id": "74d54f22",
   "metadata": {},
   "outputs": [],
   "source": [
    "import Criba_cuadratica as CC"
   ]
  },
  {
   "cell_type": "markdown",
   "id": "a248ea74",
   "metadata": {},
   "source": [
    "Ejecutamos la función *QS* del fichero *Criba_cuadratica* junto con los datos del ejemplo de la memoria. Como en el caso del Método de Dixon también toma los mismos $3$ valores."
   ]
  },
  {
   "cell_type": "code",
   "execution_count": 23,
   "id": "32f49ae8",
   "metadata": {},
   "outputs": [
    {
     "name": "stdout",
     "output_type": "stream",
     "text": [
      "B= [-1, 2, 3, 5, 13, 19]\n",
      "85 ^2= -156 (mod 7381 )\n",
      "86 ^2= 15 (mod 7381 )\n",
      "84 ^2= -325 (mod 7381 )\n",
      "89 ^2= 540 (mod 7381 )\n",
      "91 ^2= 900 (mod 7381 )\n",
      "79 ^2= -1140 (mod 7381 )\n",
      "92 ^2= 1083 (mod 7381 )\n",
      "Z= [85, 86, 84, 89, 91, 79, 92]\n",
      "W= [-156, 15, -325, 540, 900, -1140, 1083]\n",
      "A= [[1, 0, 1, 0, 1, 0], [0, 0, 1, 1, 0, 0], [1, 0, 0, 0, 1, 0], [0, 0, 1, 1, 0, 0], [0, 0, 0, 0, 0, 0], [1, 0, 1, 1, 0, 1], [0, 0, 1, 0, 0, 0]]\n"
     ]
    }
   ],
   "source": [
    "CC.QS(7381,20,19)"
   ]
  },
  {
   "cell_type": "markdown",
   "id": "66a7109c",
   "metadata": {},
   "source": [
    "Vemos que obtenemos los resultados correctos y la función nos da la matriz de exponentes que necesitamos para el método. Probamos ahora con otro entero mayor para testear el método."
   ]
  },
  {
   "cell_type": "code",
   "execution_count": 24,
   "id": "81e19651",
   "metadata": {},
   "outputs": [
    {
     "name": "stdout",
     "output_type": "stream",
     "text": [
      "B= [-1, 2, 3, 5, 13, 19, 31, 73, 79, 103, 107, 113, 127, 131, 139, 149]\n",
      "86689 ^2= 500760 (mod 7514481961 )\n",
      "86680 ^2= -1059561 (mod 7514481961 )\n",
      "86675 ^2= -1926336 (mod 7514481961 )\n",
      "86669 ^2= -2966400 (mod 7514481961 )\n",
      "86707 ^2= 3621888 (mod 7514481961 )\n",
      "86651 ^2= -6086160 (mod 7514481961 )\n",
      "86741 ^2= 9519120 (mod 7514481961 )\n",
      "86861 ^2= 30351360 (mod 7514481961 )\n",
      "86501 ^2= -32058960 (mod 7514481961 )\n",
      "86419 ^2= -46238400 (mod 7514481961 )\n",
      "86969 ^2= 49125000 (mod 7514481961 )\n",
      "87053 ^2= 63742848 (mod 7514481961 )\n",
      "86299 ^2= -66964560 (mod 7514481961 )\n",
      "85931 ^2= -130345200 (mod 7514481961 )\n",
      "87719 ^2= 180141000 (mod 7514481961 )\n",
      "87781 ^2= 191022000 (mod 7514481961 )\n",
      "85581 ^2= -190374400 (mod 7514481961 )\n",
      "Z= [86689, 86680, 86675, 86669, 86707, 86651, 86741, 86861, 86501, 86419, 86969, 87053, 86299, 85931, 87719, 87781, 85581]\n",
      "W= [500760, -1059561, -1926336, -2966400, 3621888, -6086160, 9519120, 30351360, -32058960, -46238400, 49125000, 63742848, -66964560, -130345200, 180141000, 191022000, -190374400]\n",
      "A= [[0, 1, 0, 1, 1, 0, 0, 0, 0, 0, 1, 0, 0, 0, 0, 0], [1, 0, 0, 0, 0, 0, 0, 0, 0, 1, 0, 0, 1, 0, 0, 0], [1, 0, 1, 0, 0, 0, 0, 0, 1, 0, 0, 0, 1, 0, 0, 0], [1, 1, 0, 0, 0, 0, 0, 0, 0, 1, 0, 0, 0, 0, 0, 0], [0, 0, 1, 0, 0, 0, 0, 0, 0, 0, 0, 0, 0, 1, 0, 0], [1, 0, 0, 1, 0, 0, 0, 0, 1, 0, 1, 0, 0, 0, 0, 0], [0, 0, 0, 1, 1, 0, 0, 0, 0, 0, 0, 1, 0, 0, 0, 0], [0, 1, 1, 1, 1, 1, 0, 0, 0, 0, 0, 0, 0, 0, 0, 0], [1, 0, 1, 1, 0, 0, 0, 0, 0, 0, 0, 0, 0, 0, 1, 0], [1, 0, 0, 0, 0, 1, 0, 0, 0, 0, 0, 0, 0, 0, 0, 0], [0, 1, 1, 0, 0, 0, 0, 0, 0, 0, 0, 0, 0, 1, 0, 0], [0, 1, 1, 0, 1, 0, 0, 0, 0, 0, 0, 0, 0, 0, 0, 0], [1, 0, 1, 1, 1, 0, 0, 0, 0, 0, 0, 0, 1, 0, 0, 0], [1, 0, 1, 0, 0, 0, 0, 0, 0, 0, 0, 0, 0, 0, 0, 1], [0, 1, 1, 1, 1, 0, 1, 0, 0, 0, 0, 0, 0, 0, 0, 1], [0, 0, 1, 1, 1, 0, 1, 0, 1, 0, 0, 0, 0, 0, 0, 0], [1, 1, 0, 0, 0, 0, 0, 0, 0, 0, 1, 0, 0, 0, 1, 0]]\n"
     ]
    }
   ],
   "source": [
    "CC.QS(7514481961,1500,150)"
   ]
  },
  {
   "cell_type": "markdown",
   "id": "8b0de30f",
   "metadata": {},
   "source": [
    "# 2. Pruebas de primalidad"
   ]
  },
  {
   "cell_type": "markdown",
   "id": "8b438bda",
   "metadata": {},
   "source": [
    "## 2.1 Prueba de Wilson"
   ]
  },
  {
   "cell_type": "code",
   "execution_count": 25,
   "id": "3e8f2c7d",
   "metadata": {},
   "outputs": [],
   "source": [
    "import Prueba_de_Wilson as PW"
   ]
  },
  {
   "cell_type": "markdown",
   "id": "72499c50",
   "metadata": {},
   "source": [
    "Ejecutamos el código con el ejemplo expuesto en la memoria, $n=97$. La función solo necesita tomar el valor del entero al que se le aplica el test."
   ]
  },
  {
   "cell_type": "code",
   "execution_count": 26,
   "id": "807a5c2c",
   "metadata": {},
   "outputs": [
    {
     "data": {
      "text/plain": [
       "True"
      ]
     },
     "execution_count": 26,
     "metadata": {},
     "output_type": "execute_result"
    }
   ],
   "source": [
    "PW.pruebaWilson(97)"
   ]
  },
  {
   "cell_type": "markdown",
   "id": "9e63ab36",
   "metadata": {},
   "source": [
    "Vemos que la salida es *True* por lo que la prueba nos dice que $97$ es un número primo. Vemos también un ejemplo con un entero distinto, por ejemplo $n=487$. Hay que tener en cuenta que a esta prueba no podemos pedirle que decida la primalidad de un número demasiado grande ya que para obtener una respuesta debe calcular $(n-1)!$ y eso tiene gran coste computacional."
   ]
  },
  {
   "cell_type": "code",
   "execution_count": 27,
   "id": "167c2696",
   "metadata": {},
   "outputs": [
    {
     "data": {
      "text/plain": [
       "True"
      ]
     },
     "execution_count": 27,
     "metadata": {},
     "output_type": "execute_result"
    }
   ],
   "source": [
    "PW.pruebaWilson(487)"
   ]
  },
  {
   "cell_type": "markdown",
   "id": "cc1a424c",
   "metadata": {},
   "source": [
    "También obtenemos que $487$ es primo."
   ]
  },
  {
   "cell_type": "markdown",
   "id": "657bc0a1",
   "metadata": {},
   "source": [
    "## 2.2 Prueba de Lucas"
   ]
  },
  {
   "cell_type": "code",
   "execution_count": 28,
   "id": "803cd152",
   "metadata": {},
   "outputs": [],
   "source": [
    "import Test_de_Lucas as TL"
   ]
  },
  {
   "cell_type": "markdown",
   "id": "b80b2f21",
   "metadata": {},
   "source": [
    "Comprobamos también los cálculos realizados en uno de los casos del ejemplo que se muestra en el documento del TFG. Se trata de comprobar la primalidad de $n=18181$. Para ello la función tomará dos argumentos, el entero $n$ y una lista con los divisores de $n-1$."
   ]
  },
  {
   "cell_type": "code",
   "execution_count": 29,
   "id": "cc9a1c24",
   "metadata": {},
   "outputs": [
    {
     "data": {
      "text/plain": [
       "True"
      ]
     },
     "execution_count": 29,
     "metadata": {},
     "output_type": "execute_result"
    }
   ],
   "source": [
    "TL.TestLucas(18181,[2,3,5,101])"
   ]
  },
  {
   "cell_type": "markdown",
   "id": "79fdb57b",
   "metadata": {},
   "source": [
    "Pasamos a mostrar otro ejemplo, comprobaremos la primalidad del entero $n=48847483$. Los divisores de $n-1$ se puede comprobar por cualquier método de factorización que son $2, 3,41$ y $22063$. Veamos el código:"
   ]
  },
  {
   "cell_type": "code",
   "execution_count": 30,
   "id": "93d161cc",
   "metadata": {},
   "outputs": [
    {
     "data": {
      "text/plain": [
       "True"
      ]
     },
     "execution_count": 30,
     "metadata": {},
     "output_type": "execute_result"
    }
   ],
   "source": [
    "TL.TestLucas(48847483,[2,3,41,22063])"
   ]
  },
  {
   "cell_type": "markdown",
   "id": "db652907",
   "metadata": {},
   "source": [
    "También obtenemos que $n=48847483$ es primo."
   ]
  },
  {
   "cell_type": "markdown",
   "id": "a98ac58c",
   "metadata": {},
   "source": [
    "## 2.3 Prueba de Fermat"
   ]
  },
  {
   "cell_type": "code",
   "execution_count": 31,
   "id": "bb707912",
   "metadata": {},
   "outputs": [],
   "source": [
    "import Prueba_Fermat as PF"
   ]
  },
  {
   "cell_type": "markdown",
   "id": "c5064b44",
   "metadata": {},
   "source": [
    "Veamos que la respuesta de la prueba es *True* cuando $n=7109$ tal como decíamos en la memoria, aunque alli no tomabamos bases aleatorias y aquí si que lo haremos, en concreto le haremos pasar el test para $4$ bases."
   ]
  },
  {
   "cell_type": "code",
   "execution_count": 32,
   "id": "9959345d",
   "metadata": {},
   "outputs": [
    {
     "data": {
      "text/plain": [
       "True"
      ]
     },
     "execution_count": 32,
     "metadata": {},
     "output_type": "execute_result"
    }
   ],
   "source": [
    "PF.pruebaFermat(7109,4)"
   ]
  },
  {
   "cell_type": "markdown",
   "id": "8b22f700",
   "metadata": {},
   "source": [
    "Vemos que efectivamente devuelve *True* por lo que coincide con lo ya descrito. Aplicamos ahora la prueba a enteros de mayor tamaño. En este caso tomaremos el entero $n=34491779897832327531271190094047$ y tomaremos $6$ bases aleatorias."
   ]
  },
  {
   "cell_type": "code",
   "execution_count": 33,
   "id": "a3ad123e",
   "metadata": {},
   "outputs": [
    {
     "data": {
      "text/plain": [
       "True"
      ]
     },
     "execution_count": 33,
     "metadata": {},
     "output_type": "execute_result"
    }
   ],
   "source": [
    "PF.pruebaFermat(34491779897832327531271190094047,6)"
   ]
  },
  {
   "cell_type": "markdown",
   "id": "f3e27697",
   "metadata": {},
   "source": [
    "Observamos que la respuesta es inmediata y nos dice que $n$ es un probable primo (se puede comprobar por otros métodos que lo es)."
   ]
  },
  {
   "cell_type": "markdown",
   "id": "b49ee842",
   "metadata": {},
   "source": [
    "## 2.4 Prueba de Solovay-Strassen"
   ]
  },
  {
   "cell_type": "code",
   "execution_count": 34,
   "id": "d14d26d9",
   "metadata": {},
   "outputs": [],
   "source": [
    "import Solovay_Strassen as SS"
   ]
  },
  {
   "cell_type": "markdown",
   "id": "f79d3b5f",
   "metadata": {},
   "source": [
    "Comenzamos viendo el ejemplo correspondiente, tomaremos el entero $n=25630757$. De nuevo el test requiere de dos entradas, el entero en cuestión y el número de bases aleatorias que deseamos escoger para realizar el test."
   ]
  },
  {
   "cell_type": "code",
   "execution_count": 35,
   "id": "a0fc776c",
   "metadata": {},
   "outputs": [
    {
     "data": {
      "text/plain": [
       "True"
      ]
     },
     "execution_count": 35,
     "metadata": {},
     "output_type": "execute_result"
    }
   ],
   "source": [
    "SS.PruebSS(25630757,4)"
   ]
  },
  {
   "cell_type": "markdown",
   "id": "eedb170e",
   "metadata": {},
   "source": [
    "Efectivamente vemos que nos devuelve *True* al igual que concluíamos en la memoria. Probamos ahora con un entero de mayor tamaño, $n=34416597576804423258315218292737$, y de nuevo elegiremos $6$ bases aleatorias."
   ]
  },
  {
   "cell_type": "code",
   "execution_count": 36,
   "id": "7c092aa9",
   "metadata": {},
   "outputs": [
    {
     "data": {
      "text/plain": [
       "True"
      ]
     },
     "execution_count": 36,
     "metadata": {},
     "output_type": "execute_result"
    }
   ],
   "source": [
    "SS.PruebSS(34416597576804423258315218292737,6)"
   ]
  },
  {
   "cell_type": "markdown",
   "id": "72b9f27a",
   "metadata": {},
   "source": [
    "La prueba de Solovay-Strassen nos dice que $n$ es un probable primo y las posibilidades de que lo sean son muy altas, en concreto $1-2^{-6}=0.984375$. De hecho, $n$ se puede comprobar que efectivamente es primo."
   ]
  },
  {
   "cell_type": "markdown",
   "id": "f0c927e2",
   "metadata": {},
   "source": [
    "## 2.5 Test de Miller-Rabin"
   ]
  },
  {
   "cell_type": "code",
   "execution_count": 37,
   "id": "9c3dfbaa",
   "metadata": {},
   "outputs": [],
   "source": [
    "import Miller_Rabin as MR"
   ]
  },
  {
   "cell_type": "markdown",
   "id": "74b0989e",
   "metadata": {},
   "source": [
    "Aplicamos la función al enteor $n=21037369$ como hacíamos en el ejemplo 2.5 del TFG."
   ]
  },
  {
   "cell_type": "code",
   "execution_count": 38,
   "id": "2ed45884",
   "metadata": {},
   "outputs": [
    {
     "data": {
      "text/plain": [
       "True"
      ]
     },
     "execution_count": 38,
     "metadata": {},
     "output_type": "execute_result"
    }
   ],
   "source": [
    "MR.MR(21037369,6)"
   ]
  },
  {
   "cell_type": "markdown",
   "id": "639fed22",
   "metadata": {},
   "source": [
    "De nuevo las bases elegidas serán distintas a las tomadas en el ejemplo dada la aleatoriedad de la elección. Vamos ahora a probar el código para un entero aún mayor"
   ]
  },
  {
   "cell_type": "code",
   "execution_count": 39,
   "id": "78008599",
   "metadata": {
    "scrolled": true
   },
   "outputs": [
    {
     "data": {
      "text/plain": [
       "True"
      ]
     },
     "execution_count": 39,
     "metadata": {},
     "output_type": "execute_result"
    }
   ],
   "source": [
    "MR.MR(170141183460469231731687303715884105727,6)"
   ]
  },
  {
   "cell_type": "markdown",
   "id": "1f657b82",
   "metadata": {},
   "source": [
    "La respuesta es inmediata a pesar de que el número tiene un tamaño considerable. Tras esto ponemos a prueba el algoritmo dando como entrada el número primo de Mersenne $n=2^{521}-1$ (este se ha consultado en <a href=\"https://es.wikipedia.org/wiki/N%C3%BAmero_primo_de_Mersenne\">Wikipedia</a>)."
   ]
  },
  {
   "cell_type": "code",
   "execution_count": 40,
   "id": "098d9366",
   "metadata": {},
   "outputs": [
    {
     "data": {
      "text/plain": [
       "True"
      ]
     },
     "execution_count": 40,
     "metadata": {},
     "output_type": "execute_result"
    }
   ],
   "source": [
    "MR.MR(2**521-1,6)"
   ]
  },
  {
   "cell_type": "markdown",
   "id": "3c7317d3",
   "metadata": {},
   "source": [
    "El tiempo de cómputo es inapreciable. Es por esto y por su alta probabilidad de acierto que Miller-Rabin es en la actualidad uno de los test de primalidad más usados."
   ]
  },
  {
   "cell_type": "markdown",
   "id": "b5496cc1",
   "metadata": {},
   "source": [
    "## 2.6 Prueba de Baillie-PSW"
   ]
  },
  {
   "cell_type": "markdown",
   "id": "e1e5816f",
   "metadata": {},
   "source": [
    "### 2.6.1 Prueba fuerte de Lucas"
   ]
  },
  {
   "cell_type": "code",
   "execution_count": 41,
   "id": "fc96c046",
   "metadata": {},
   "outputs": [],
   "source": [
    "import Prueba_fuerte_de_Lucas as SL"
   ]
  },
  {
   "cell_type": "markdown",
   "id": "ffa0d95e",
   "metadata": {},
   "source": [
    "Verificamos como venimos haciendo los ejemplos de la memoria. En este caso aplicaremos el algoritmo al entero $n=25630771$."
   ]
  },
  {
   "cell_type": "code",
   "execution_count": 42,
   "id": "3f00891e",
   "metadata": {},
   "outputs": [
    {
     "data": {
      "text/plain": [
       "True"
      ]
     },
     "execution_count": 42,
     "metadata": {},
     "output_type": "execute_result"
    }
   ],
   "source": [
    "SL.LucasStest(25630771)"
   ]
  },
  {
   "cell_type": "markdown",
   "id": "a4937341",
   "metadata": {},
   "source": [
    "Obtenemos *True* por lo que es un probable primo, tal y como concluíamos en la memoria. Probamos ahora el test para un entero distinto, $n=654651321347$."
   ]
  },
  {
   "cell_type": "code",
   "execution_count": 43,
   "id": "45b14bab",
   "metadata": {},
   "outputs": [
    {
     "data": {
      "text/plain": [
       "False"
      ]
     },
     "execution_count": 43,
     "metadata": {},
     "output_type": "execute_result"
    }
   ],
   "source": [
    "SL.LucasStest(654651321347)"
   ]
  },
  {
   "cell_type": "markdown",
   "id": "e06aa4fa",
   "metadata": {},
   "source": [
    "Esta vez obtenemos *False* por lo que podemos afirmar que $654651321347$ es compuesto."
   ]
  },
  {
   "cell_type": "markdown",
   "id": "32be7c84",
   "metadata": {},
   "source": [
    "### 2.6.2 Baillie-PSW"
   ]
  },
  {
   "cell_type": "code",
   "execution_count": 44,
   "id": "662c9b37",
   "metadata": {},
   "outputs": [],
   "source": [
    "import Baillie_PSW as PSW"
   ]
  },
  {
   "cell_type": "markdown",
   "id": "18bc8fab",
   "metadata": {},
   "source": [
    "Verificamos el ejemplo expuesto, en este caso el entero era $n=1664614493$."
   ]
  },
  {
   "cell_type": "code",
   "execution_count": 45,
   "id": "c38b0199",
   "metadata": {},
   "outputs": [
    {
     "data": {
      "text/plain": [
       "True"
      ]
     },
     "execution_count": 45,
     "metadata": {},
     "output_type": "execute_result"
    }
   ],
   "source": [
    "PSW.baillie_PSW(1664614493)"
   ]
  },
  {
   "cell_type": "markdown",
   "id": "f9f68a52",
   "metadata": {},
   "source": [
    "Obtenemos *True* por lo que podemos decir que $n$ es primo, ya que como decíamos en la actualidad no se ha encontrado número compuesto alguno que pase el test de Baillie-PSW. Terminamos poniendo a prueba el algoritmo con el entero $n=2^{521}-1$ que es un primo de Mersenne."
   ]
  },
  {
   "cell_type": "code",
   "execution_count": 46,
   "id": "9db7f5b1",
   "metadata": {},
   "outputs": [
    {
     "data": {
      "text/plain": [
       "True"
      ]
     },
     "execution_count": 46,
     "metadata": {},
     "output_type": "execute_result"
    }
   ],
   "source": [
    "PSW.baillie_PSW(2**521-1)"
   ]
  },
  {
   "cell_type": "markdown",
   "id": "d854904d",
   "metadata": {},
   "source": [
    "Se puede apreciar que la respuesta no es inmediata, pero casi, por lo que nos encontramos ante un muy eficiente y fiable test de primalidad, al igual que ocurría con Miller-Rabin."
   ]
  }
 ],
 "metadata": {
  "kernelspec": {
   "display_name": "Python 3",
   "language": "python",
   "name": "python3"
  },
  "language_info": {
   "codemirror_mode": {
    "name": "ipython",
    "version": 3
   },
   "file_extension": ".py",
   "mimetype": "text/x-python",
   "name": "python",
   "nbconvert_exporter": "python",
   "pygments_lexer": "ipython3",
   "version": "3.6.9"
  }
 },
 "nbformat": 4,
 "nbformat_minor": 5
}
